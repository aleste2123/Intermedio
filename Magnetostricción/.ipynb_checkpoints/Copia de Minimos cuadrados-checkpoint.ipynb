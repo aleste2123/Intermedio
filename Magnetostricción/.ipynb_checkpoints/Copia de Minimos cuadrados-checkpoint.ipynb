{
 "cells": [
  {
   "cell_type": "markdown",
   "id": "561e5ab8",
   "metadata": {},
   "source": [
    "En esta parte se encuentra codigo de los mínimos cuadrados y con incertidumbre"
   ]
  },
  {
   "cell_type": "code",
   "execution_count": 6,
   "id": "474c610d",
   "metadata": {},
   "outputs": [
    {
     "name": "stdout",
     "output_type": "stream",
     "text": [
      "Que regresión quieres. 1) Minimos cuadrados. 2) Mínimo cuadrados con pesos: 1\n",
      "¿Quieres guardar la imagen? (si) no\n"
     ]
    },
    {
     "ename": "NameError",
     "evalue": "name 'm' is not defined",
     "output_type": "error",
     "traceback": [
      "\u001b[0;31m---------------------------------------------------------------------------\u001b[0m",
      "\u001b[0;31mNameError\u001b[0m                                 Traceback (most recent call last)",
      "Cell \u001b[0;32mIn[6], line 19\u001b[0m\n\u001b[1;32m     17\u001b[0m         minimos_cuadrados(x,y,i,name,\u001b[38;5;28;01mTrue\u001b[39;00m, \u001b[38;5;28;01mTrue\u001b[39;00m)\n\u001b[1;32m     18\u001b[0m     \u001b[38;5;28;01melse\u001b[39;00m:\n\u001b[0;32m---> 19\u001b[0m         minimos_cuadrados(x,y,i,\u001b[38;5;124m\"\u001b[39m\u001b[38;5;124mno\u001b[39m\u001b[38;5;124m\"\u001b[39m,\u001b[38;5;28;01mTrue\u001b[39;00m, \u001b[38;5;28;01mFalse\u001b[39;00m)\n\u001b[1;32m     20\u001b[0m \u001b[38;5;28;01melif\u001b[39;00m opcion \u001b[38;5;241m==\u001b[39m \u001b[38;5;124m'\u001b[39m\u001b[38;5;124m2\u001b[39m\u001b[38;5;124m'\u001b[39m:\n\u001b[1;32m     21\u001b[0m     guardar \u001b[38;5;241m=\u001b[39m \u001b[38;5;28minput\u001b[39m(\u001b[38;5;124m\"\u001b[39m\u001b[38;5;124m¿Quieres guardar la imagen? (si) \u001b[39m\u001b[38;5;124m\"\u001b[39m)\n",
      "Cell \u001b[0;32mIn[3], line 7\u001b[0m, in \u001b[0;36mminimos_cuadrados\u001b[0;34m(x, y, i, name, plot, Descargar)\u001b[0m\n\u001b[1;32m      5\u001b[0m sum_xy \u001b[38;5;241m=\u001b[39m np\u001b[38;5;241m.\u001b[39msum(x\u001b[38;5;241m*\u001b[39my)\n\u001b[1;32m      6\u001b[0m sum_x_2 \u001b[38;5;241m=\u001b[39m np\u001b[38;5;241m.\u001b[39msum(x\u001b[38;5;241m*\u001b[39m\u001b[38;5;241m*\u001b[39m\u001b[38;5;241m2\u001b[39m)\n\u001b[0;32m----> 7\u001b[0m residuales \u001b[38;5;241m=\u001b[39m y\u001b[38;5;241m-\u001b[39m(m\u001b[38;5;241m*\u001b[39mx)\u001b[38;5;241m+\u001b[39mb\n\u001b[1;32m      8\u001b[0m pendiente \u001b[38;5;241m=\u001b[39m (n\u001b[38;5;241m*\u001b[39msum_xy\u001b[38;5;241m-\u001b[39m(sum_x\u001b[38;5;241m*\u001b[39msum_y))\u001b[38;5;241m/\u001b[39m(n\u001b[38;5;241m*\u001b[39msum_x_2\u001b[38;5;241m-\u001b[39m(\u001b[38;5;28mabs\u001b[39m(sum_x)\u001b[38;5;241m*\u001b[39m\u001b[38;5;241m*\u001b[39m\u001b[38;5;241m2\u001b[39m))\n\u001b[1;32m      9\u001b[0m intercepto \u001b[38;5;241m=\u001b[39m (sum_y\u001b[38;5;241m*\u001b[39msum_x_2\u001b[38;5;241m-\u001b[39msum_x\u001b[38;5;241m*\u001b[39mnp\u001b[38;5;241m.\u001b[39msum(x\u001b[38;5;241m*\u001b[39my))\u001b[38;5;241m/\u001b[39m(n\u001b[38;5;241m*\u001b[39msum_x_2\u001b[38;5;241m-\u001b[39m(\u001b[38;5;28mabs\u001b[39m(sum_x)\u001b[38;5;241m*\u001b[39m\u001b[38;5;241m*\u001b[39m\u001b[38;5;241m2\u001b[39m))\n",
      "\u001b[0;31mNameError\u001b[0m: name 'm' is not defined"
     ]
    }
   ],
   "source": [
    "import numpy as np\n",
    "import matplotlib.pyplot as plt\n",
    "import os\n",
    "\n",
    "# Ingresas tus datos de valor independiente, dependiente y error de y\n",
    "\n",
    "x = np.array([0,1])\n",
    "y = np.array([0,1])\n",
    "i = np.random.uniform(1, 5000,2)\n",
    "\n",
    "opcion = input(\"Que regresión quieres. 1) Minimos cuadrados. 2) Mínimo cuadrados con pesos: \")\n",
    "\n",
    "if opcion == '1':\n",
    "    guardar = input(\"¿Quieres guardar la imagen? (si) \")\n",
    "    if guardar == \"si\":\n",
    "        name = input(\"Nombre del archivo: \")\n",
    "        minimos_cuadrados(x,y,i,name,True, True)\n",
    "    else:\n",
    "        minimos_cuadrados(x,y,i,\"no\",True, False)\n",
    "elif opcion == '2':\n",
    "    guardar = input(\"¿Quieres guardar la imagen? (si) \")\n",
    "    if guardar == \"si\":\n",
    "        name = input(\"Nombre del archivo: \")\n",
    "        minimos_cuadrados_incertidumbre(x,y,i,name,True,True)\n",
    "    else:\n",
    "        minimos_cuadrados_incertidumbre(x,y,i,\"no\",True,False)\n"
   ]
  },
  {
   "cell_type": "code",
   "execution_count": 3,
   "id": "b5647547",
   "metadata": {},
   "outputs": [],
   "source": [
    "def minimos_cuadrados(x,y,i,name=\"Regresion\",plot = False, Descargar=False):\n",
    "    n = len(x)\n",
    "    sum_x = np.sum(x)\n",
    "    sum_y = np.sum(y)\n",
    "    sum_xy = np.sum(x*y)\n",
    "    sum_x_2 = np.sum(x**2)\n",
    "    residuales = y-(m*x)+b\n",
    "    pendiente = (n*sum_xy-(sum_x*sum_y))/(n*sum_x_2-(abs(sum_x)**2))\n",
    "    intercepto = (sum_y*sum_x_2-sum_x*np.sum(x*y))/(n*sum_x_2-(abs(sum_x)**2))\n",
    "    if plot:\n",
    "        fig, axs = plt.subplots(2, 1, figsize=(8, 12), sharex=True, gridspec_kw={'hspace': 0})\n",
    "        axs[0].errorbar(x, y, yerr=i, fmt='o')       \n",
    "        axs[0].plot(x,m*x+b)\n",
    "        axs[1].scatter(x,residuales)\n",
    "        axs[0].set_ylabel('Eje-y')\n",
    "        axs[1].set_ylabel('Residuales')\n",
    "        plt.xlabel('X') \n",
    "        plt.tight_layout()  \n",
    "        if Descargar:\n",
    "            ruta = os.getcwd()\n",
    "            name =name+\".png\"\n",
    "            ruta_completa = f\"{ruta}/{name}\"\n",
    "            plt.savefig(ruta_completa, bbox_inches='tight', pad_inches=1.0)\n",
    "    \n",
    "    return pendiente,intercepto"
   ]
  },
  {
   "cell_type": "markdown",
   "id": "1338d49d",
   "metadata": {},
   "source": [
    "Minimos cuadrados con incertidumbre"
   ]
  },
  {
   "cell_type": "code",
   "execution_count": 4,
   "id": "018d4ea4",
   "metadata": {},
   "outputs": [],
   "source": [
    "def minimos_cuadrados_incertidumbre(x,y,i,name=\"Regresion\",plot = True,Descargar= False):\n",
    "    w = 1/(i**2)\n",
    "    sum_w_x_2 = np.sum((x**2)*w)\n",
    "    sum_w_y = np.sum(w*y)\n",
    "    sum_w_x = np.sum(w*x)\n",
    "    sum_w_x_y = np.sum(w*x*y)\n",
    "    sum_w = np.sum(w)\n",
    "    delta_prima = (sum_w*sum_w_x_2)-(sum_w_x)**2 \n",
    "    pendiente = ((sum_w*sum_w_x_y)-(sum_w_x*sum_w_y))/delta_prima\n",
    "    intercepto = ((sum_w_x_2*sum_w_y)-(sum_w_x*sum_w_x_y))/delta_prima\n",
    "    error_inter = np.sqrt(sum_w_x_2/delta_prima)\n",
    "    error_m = np.sqrt(sum_w/delta_prima)\n",
    "    residuales = y-(m*x)+b\n",
    "    normalize_residuales = (y-m*x+b)/error_m\n",
    "    if plot:\n",
    "        fig, axs = plt.subplots(3, 1, figsize=(8, 12), sharex=True, gridspec_kw={'hspace': 0})\n",
    "        axs[0].errorbar(x, y, yerr=i, fmt='o')       \n",
    "        axs[0].plot(x,m*x+b)\n",
    "        axs[1].scatter(x,residuales)\n",
    "        axs[2].scatter(x,normalize_residuales)\n",
    "        axs[0].set_ylabel('Eje-y')\n",
    "        axs[1].set_ylabel('Residuales')\n",
    "        axs[2].set_ylabel('Residuales Normalizados')\n",
    "        plt.xlabel('X')\n",
    "        plt.tight_layout()\n",
    "        if Descargar:\n",
    "            ruta = os.getcwd()\n",
    "            name =name+\".png\"\n",
    "            ruta_completa = f\"{ruta}/{name}\"\n",
    "            plt.savefig(ruta_completa, bbox_inches='tight', pad_inches=1.0)\n",
    "    return pendiente,intercepto, error_inter, error_m\n",
    "\n",
    "x = np.array([0,1])\n",
    "y = np.array([0,1])\n",
    "e = np.array([1,1])"
   ]
  }
 ],
 "metadata": {
  "kernelspec": {
   "display_name": "Python 3 (ipykernel)",
   "language": "python",
   "name": "python3"
  },
  "language_info": {
   "codemirror_mode": {
    "name": "ipython",
    "version": 3
   },
   "file_extension": ".py",
   "mimetype": "text/x-python",
   "name": "python",
   "nbconvert_exporter": "python",
   "pygments_lexer": "ipython3",
   "version": "3.11.4"
  }
 },
 "nbformat": 4,
 "nbformat_minor": 5
}
