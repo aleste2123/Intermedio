{
 "cells": [
  {
   "cell_type": "code",
   "execution_count": 1,
   "id": "98f95b5a",
   "metadata": {},
   "outputs": [],
   "source": [
    "import numpy as np\n",
    "import matplotlib.pyplot as plt\n",
    "import os\n",
    "from scipy.optimize import curve_fit"
   ]
  },
  {
   "cell_type": "code",
   "execution_count": 6,
   "id": "017342c0",
   "metadata": {},
   "outputs": [],
   "source": [
    "V = np.array([1.8,2,2.2,2.4,2.6,2.8,3,3.2,3.4,3.6,3.8,4,4.2,4.4,4.6,4.8,5])\n",
    "e_v = np.ones(len(V))*0.05\n",
    "D_1 =np.array([4.5, 4.3, 3.4, 3.3, 3.2, 3.15, 3.1, 3.2, 2.9, 2.9, 2.7, 2.6,2.5, 2.6, 2.5, 2.5, 2.5])\n",
    "D_2 = np.array([7.2, 7.1, 6.4, 5.8, 5.7, 5.6,5.3, 4.8, 4.7, 4.4, 4.5, 4.4,4.15, 4.1, 4.2, 4.2, 4.2])\n",
    "e_1 = np.array([0.2, 0.3, 0.5, 0.3, 0.3, 0.3,0.3, 0.3, 0.3, 0.3, 0.3, 0.3,0.3, 0.3, 0.3, 0.3, 0.3])\n",
    "e_2 = np.array([0.4, 0.4, 0.3, 0.3, 0.4, 0.3,0.3, 0.3, 0.3, 0.3, 0.3, 0.3,0.3, 0.3, 0.3, 0.3, 0.3])"
   ]
  },
  {
   "cell_type": "code",
   "execution_count": null,
   "id": "b338a3a7",
   "metadata": {},
   "outputs": [],
   "source": []
  }
 ],
 "metadata": {
  "kernelspec": {
   "display_name": "Python 3 (ipykernel)",
   "language": "python",
   "name": "python3"
  },
  "language_info": {
   "codemirror_mode": {
    "name": "ipython",
    "version": 3
   },
   "file_extension": ".py",
   "mimetype": "text/x-python",
   "name": "python",
   "nbconvert_exporter": "python",
   "pygments_lexer": "ipython3",
   "version": "3.11.4"
  }
 },
 "nbformat": 4,
 "nbformat_minor": 5
}
