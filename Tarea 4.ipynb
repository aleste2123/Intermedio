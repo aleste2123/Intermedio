{
 "cells": [
  {
   "cell_type": "code",
   "execution_count": 1,
   "id": "4b983184",
   "metadata": {},
   "outputs": [],
   "source": [
    "import numpy as np"
   ]
  },
  {
   "cell_type": "markdown",
   "id": "cff30662",
   "metadata": {},
   "source": [
    "5.3"
   ]
  },
  {
   "cell_type": "code",
   "execution_count": 2,
   "id": "020d44e3",
   "metadata": {},
   "outputs": [],
   "source": [
    "x=I = np.linspace(10,90,9) \n",
    "y=V = np.array([0.98,1.98,2.98, 3.97,4.95,5.95, 6.93,7.93,8.91])"
   ]
  },
  {
   "cell_type": "code",
   "execution_count": 3,
   "id": "4dd1243e",
   "metadata": {},
   "outputs": [
    {
     "name": "stdout",
     "output_type": "stream",
     "text": [
      "-0.0008333333333333334\n",
      "0.09908333333333333\n",
      "0.007154752000627286\n",
      "0.005197806822804966\n",
      "9.236745114891226e-05\n"
     ]
    }
   ],
   "source": [
    "N = len(I)\n",
    "delta = N *np.sum(x*x)-np.sum(x)**2\n",
    "c = (np.sum(x*x)*np.sum(y)-np.sum(x)*np.sum(x*y))/delta\n",
    "m = (N*np.sum(x*y)-np.sum(x)*np.sum(y))/delta\n",
    "alpha_cu = np.sqrt((1/(N-2))*np.sum((y-m*x-c)**2))\n",
    "alpha_c = alpha_cu *np.sqrt(np.sum(x*x)/delta)\n",
    "alpha_m = alpha_cu*np.sqrt(N/delta)\n",
    "print(c)\n",
    "print(m)\n",
    "print(alpha_cu)\n",
    "print(alpha_c)\n",
    "print(alpha_m)"
   ]
  }
 ],
 "metadata": {
  "kernelspec": {
   "display_name": "Python 3 (ipykernel)",
   "language": "python",
   "name": "python3"
  },
  "language_info": {
   "codemirror_mode": {
    "name": "ipython",
    "version": 3
   },
   "file_extension": ".py",
   "mimetype": "text/x-python",
   "name": "python",
   "nbconvert_exporter": "python",
   "pygments_lexer": "ipython3",
   "version": "3.11.4"
  }
 },
 "nbformat": 4,
 "nbformat_minor": 5
}
